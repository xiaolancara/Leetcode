{
 "cells": [
  {
   "cell_type": "markdown",
   "id": "460e3d62",
   "metadata": {},
   "source": [
    "# Array"
   ]
  },
  {
   "cell_type": "markdown",
   "id": "aad9e94a",
   "metadata": {},
   "source": [
    "### 1. Remove Duplicates from Sorted Array\n",
    "\n",
    "https://leetcode.com/explore/featured/card/top-interview-questions-easy/92/array/727/"
   ]
  },
  {
   "cell_type": "raw",
   "id": "e58d8d1a",
   "metadata": {},
   "source": [
    "Input: nums = [1,1,2]\n",
    "Output: 2, nums = [1,2,_]\n",
    "Explanation: Your function should return k = 2, with the first two elements of nums being 1 and 2 respectively.\n",
    "It does not matter what you leave beyond the returned k (hence they are underscores)."
   ]
  },
  {
   "cell_type": "code",
   "execution_count": 1,
   "id": "f738f466",
   "metadata": {},
   "outputs": [
    {
     "data": {
      "text/plain": [
       "(5, [1, 2, 3, 4, 5, 4, 5])"
      ]
     },
     "execution_count": 1,
     "metadata": {},
     "output_type": "execute_result"
    }
   ],
   "source": [
    "class Solution(object):\n",
    "    def removeDuplicates(self, nums):\n",
    "        # initial unduplicate element\n",
    "        j=1\n",
    "        for i in range(1, len(nums)):\n",
    "            if nums[i] != nums[i-1]:\n",
    "                nums[j]=nums[i]\n",
    "                j+=1\n",
    "        return j, nums\n",
    "\n",
    "Solution().removeDuplicates([1,2,2,3,3,4,5])"
   ]
  },
  {
   "cell_type": "markdown",
   "id": "baa0948f",
   "metadata": {},
   "source": [
    "### 2. Best Time to Buy and Sell Stock II\n",
    "\n",
    "https://leetcode.com/explore/featured/card/top-interview-questions-easy/92/array/564/"
   ]
  },
  {
   "cell_type": "raw",
   "id": "ea07bcf5",
   "metadata": {},
   "source": [
    "Input: prices = [7,1,5,3,6,4]\n",
    "Output: 7\n",
    "Explanation: Buy on day 2 (price = 1) and sell on day 3 (price = 5), profit = 5-1 = 4.\n",
    "Then buy on day 4 (price = 3) and sell on day 5 (price = 6), profit = 6-3 = 3."
   ]
  },
  {
   "cell_type": "code",
   "execution_count": 2,
   "id": "ed49cd40",
   "metadata": {},
   "outputs": [
    {
     "data": {
      "text/plain": [
       "7"
      ]
     },
     "execution_count": 2,
     "metadata": {},
     "output_type": "execute_result"
    }
   ],
   "source": [
    "class Solution(object):\n",
    "    def maxProfit(self, prices):\n",
    "        \"\"\"\n",
    "        :type prices: List[int]\n",
    "        :rtype: int\n",
    "        \"\"\"\n",
    "        profit=0\n",
    "        for i in range(len(prices)-1):\n",
    "            if prices[i]<prices[i+1]:\n",
    "                profit += prices[i+1]-prices[i]\n",
    "        return profit\n",
    "prices = [1,2,3,4,5]\n",
    "prices = [7,1,5,3,6,4]\n",
    "Solution().maxProfit(prices)"
   ]
  },
  {
   "cell_type": "markdown",
   "id": "475c47c9",
   "metadata": {},
   "source": [
    "### 3. Rotate Array\n",
    "\n",
    "https://leetcode.com/explore/featured/card/top-interview-questions-easy/92/array/646/"
   ]
  },
  {
   "cell_type": "raw",
   "id": "0dd6b856",
   "metadata": {},
   "source": [
    "Input: nums = [1,2,3,4,5,6,7], k = 3\n",
    "Output: [5,6,7,1,2,3,4]\n",
    "Explanation:\n",
    "rotate 1 steps to the right: [7,1,2,3,4,5,6]\n",
    "rotate 2 steps to the right: [6,7,1,2,3,4,5]\n",
    "rotate 3 steps to the right: [5,6,7,1,2,3,4]"
   ]
  },
  {
   "cell_type": "code",
   "execution_count": 3,
   "id": "21bc40f5",
   "metadata": {},
   "outputs": [
    {
     "data": {
      "text/plain": [
       "[2, 1]"
      ]
     },
     "execution_count": 3,
     "metadata": {},
     "output_type": "execute_result"
    }
   ],
   "source": [
    "class Solution(object):\n",
    "    def rotate(self, nums, k):\n",
    "        \"\"\"\n",
    "        :type nums: List[int]\n",
    "        :type k: int\n",
    "        :rtype: None Do not return anything, modify nums in-place instead.\n",
    "        \"\"\"\n",
    "        k = k %len(nums)\n",
    "        ahead_nums = nums[-k:]\n",
    "        nums[k:] = nums[:-k]\n",
    "        nums[:k] = ahead_nums\n",
    "        return nums\n",
    "nums = [1,2,3,4,5,6,7]\n",
    "k = 3\n",
    "\n",
    "nums = [-1,-100,3,99]\n",
    "k = 2\n",
    "\n",
    "nums = [1,2]\n",
    "k = 3\n",
    "Solution().rotate(nums,k)"
   ]
  },
  {
   "cell_type": "markdown",
   "id": "8e908b84",
   "metadata": {},
   "source": [
    "### 4. Contains Duplicate\n",
    "\n",
    "https://leetcode.com/explore/featured/card/top-interview-questions-easy/92/array/578/"
   ]
  },
  {
   "cell_type": "raw",
   "id": "feebd50c",
   "metadata": {},
   "source": [
    "Input: nums = [1,2,3,1]\n",
    "Output: true"
   ]
  },
  {
   "cell_type": "code",
   "execution_count": 4,
   "id": "2fa18f02",
   "metadata": {},
   "outputs": [],
   "source": [
    "class Solution(object):\n",
    "    def containsDuplicate(self, nums):\n",
    "        \"\"\"\n",
    "        :type nums: List[int]\n",
    "        :rtype: bool\n",
    "        \"\"\"\n",
    "        distinct_len = len(set(nums))\n",
    "        if len(nums)==distinct_len:\n",
    "            return False\n",
    "        else:\n",
    "            return True"
   ]
  },
  {
   "cell_type": "markdown",
   "id": "2589d791",
   "metadata": {},
   "source": [
    "### 5. Single Number\n",
    "\n",
    "https://leetcode.com/explore/featured/card/top-interview-questions-easy/92/array/549/"
   ]
  },
  {
   "cell_type": "raw",
   "id": "716eb532",
   "metadata": {},
   "source": [
    "Input: nums = [2,2,1]\n",
    "Output: 1"
   ]
  },
  {
   "cell_type": "code",
   "execution_count": 5,
   "id": "663b512e",
   "metadata": {},
   "outputs": [
    {
     "data": {
      "text/plain": [
       "4"
      ]
     },
     "execution_count": 5,
     "metadata": {},
     "output_type": "execute_result"
    }
   ],
   "source": [
    "class Solution(object):\n",
    "    def singleNumber(self, nums):\n",
    "        \"\"\"\n",
    "        :type nums: List[int]\n",
    "        :rtype: int\n",
    "        \"\"\"\n",
    "        a = 0\n",
    "        for i in nums:\n",
    "            a ^= i\n",
    "        return a\n",
    "\n",
    "nums = [4,1,2,1,2]\n",
    "#nums = [1]\n",
    "#nums = [2,2,1]\n",
    "Solution().singleNumber(nums)"
   ]
  },
  {
   "cell_type": "markdown",
   "id": "a527fcad",
   "metadata": {},
   "source": [
    "### 6. Intersection of Two Arrays II\n",
    "\n",
    "https://leetcode.com/explore/featured/card/top-interview-questions-easy/92/array/674/"
   ]
  },
  {
   "cell_type": "raw",
   "id": "7430bb9b",
   "metadata": {},
   "source": [
    "Input: nums1 = [1,2,2,1], nums2 = [2,2]\n",
    "Output: [2,2]"
   ]
  },
  {
   "cell_type": "code",
   "execution_count": 6,
   "id": "0c2817d4",
   "metadata": {},
   "outputs": [
    {
     "data": {
      "text/plain": [
       "[2, 2]"
      ]
     },
     "execution_count": 6,
     "metadata": {},
     "output_type": "execute_result"
    }
   ],
   "source": [
    "class Solution(object):\n",
    "    def intersect(self, nums1, nums2):\n",
    "        \"\"\"\n",
    "        :type nums1: List[int]\n",
    "        :type nums2: List[int]\n",
    "        :rtype: List[int]\n",
    "        \"\"\"\n",
    "        nums1.sort(), nums2.sort()  # O(max(m, n) * log(max(m, n)))\n",
    "\n",
    "        res = []\n",
    "\n",
    "        it1, it2 = 0, 0\n",
    "        while it1 < len(nums1) and it2 < len(nums2):\n",
    "            if nums1[it1] < nums2[it2]:\n",
    "                it1 += 1\n",
    "            elif nums1[it1] > nums2[it2]:\n",
    "                it2 += 1\n",
    "            else:\n",
    "                res += nums1[it1],\n",
    "                it1 += 1\n",
    "                it2 += 1\n",
    "\n",
    "        return res\n",
    "\n",
    "nums1 = [2,1,2,1,4]\n",
    "nums2 = [3,2,2]\n",
    "\n",
    "# nums1 = [4,9,5]\n",
    "# nums2 = [9,4,9,8,5,0,2]\n",
    "\n",
    "Solution().intersect(nums1,nums2)"
   ]
  },
  {
   "cell_type": "markdown",
   "id": "7ffc816a",
   "metadata": {},
   "source": [
    "### 7. Plus One\n",
    "\n",
    "https://leetcode.com/explore/featured/card/top-interview-questions-easy/92/array/559/"
   ]
  },
  {
   "cell_type": "raw",
   "id": "6958a7f9",
   "metadata": {},
   "source": [
    "Input: digits = [1,2,3]\n",
    "Output: [1,2,4]\n",
    "Explanation: The array represents the integer 123."
   ]
  },
  {
   "cell_type": "code",
   "execution_count": 7,
   "id": "3745ec7f",
   "metadata": {},
   "outputs": [
    {
     "data": {
      "text/plain": [
       "[1, 0, 0]"
      ]
     },
     "execution_count": 7,
     "metadata": {},
     "output_type": "execute_result"
    }
   ],
   "source": [
    "class Solution(object):\n",
    "    def plusOne(self, digits):\n",
    "        \"\"\"\n",
    "        :type digits: List[int]\n",
    "        :rtype: List[int]\n",
    "        \"\"\"\n",
    "        i=1\n",
    "        digits[-i]=digits[-i]+1\n",
    "        while(i<=len(digits)):\n",
    "            if digits[-i]==10:\n",
    "                digits[-i]=0\n",
    "                if len(digits)==i:\n",
    "                    digits.insert(0,1)\n",
    "                else:\n",
    "                    digits[-i-1] = digits[-i-1]+1\n",
    "                    i+=1\n",
    "            else:\n",
    "                return digits\n",
    "#digits = [1,2,3]\n",
    "digits = [9,9]\n",
    "#digits = [0]\n",
    "Solution().plusOne(digits)"
   ]
  },
  {
   "cell_type": "markdown",
   "id": "6ada115c",
   "metadata": {},
   "source": [
    "### 8. Move Zeroes\n",
    "\n",
    "https://leetcode.com/explore/featured/card/top-interview-questions-easy/92/array/567/"
   ]
  },
  {
   "cell_type": "raw",
   "id": "0a3dde75",
   "metadata": {},
   "source": [
    "Input: nums = [0,1,0,3,12]\n",
    "Output: [1,3,12,0,0]"
   ]
  },
  {
   "cell_type": "code",
   "execution_count": 8,
   "id": "9ab2ec7f",
   "metadata": {},
   "outputs": [
    {
     "data": {
      "text/plain": [
       "[1, 3, 12, 0, 0]"
      ]
     },
     "execution_count": 8,
     "metadata": {},
     "output_type": "execute_result"
    }
   ],
   "source": [
    "class Solution(object):\n",
    "    def moveZeroes(self, nums):\n",
    "        \"\"\"\n",
    "        :type nums: List[int]\n",
    "        :rtype: None Do not return anything, modify nums in-place instead.\n",
    "        \"\"\"\n",
    "        i=0\n",
    "        for j in range(len(nums)):\n",
    "            if nums[j]!=0:\n",
    "                nums[i]=nums[j]\n",
    "                i+=1\n",
    "        for z in range(1, len(nums)-i+1):\n",
    "            nums[-z]=0\n",
    "        return nums\n",
    "nums = [0,1,0,3,12]\n",
    "#nums = [0]\n",
    "Solution().moveZeroes(nums)"
   ]
  },
  {
   "cell_type": "markdown",
   "id": "bca91e35",
   "metadata": {},
   "source": [
    "### 9.Two Sum\n",
    "\n",
    "https://leetcode.com/explore/featured/card/top-interview-questions-easy/92/array/546/"
   ]
  },
  {
   "cell_type": "code",
   "execution_count": null,
   "id": "8b8cc021",
   "metadata": {},
   "outputs": [],
   "source": []
  }
 ],
 "metadata": {
  "kernelspec": {
   "display_name": "Python 3",
   "language": "python",
   "name": "python3"
  },
  "language_info": {
   "codemirror_mode": {
    "name": "ipython",
    "version": 3
   },
   "file_extension": ".py",
   "mimetype": "text/x-python",
   "name": "python",
   "nbconvert_exporter": "python",
   "pygments_lexer": "ipython3",
   "version": "3.8.3"
  }
 },
 "nbformat": 4,
 "nbformat_minor": 5
}
